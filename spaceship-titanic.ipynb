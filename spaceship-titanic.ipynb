{
 "cells": [
  {
   "cell_type": "markdown",
   "id": "74bf3e60",
   "metadata": {
    "papermill": {
     "duration": 0.009552,
     "end_time": "2024-02-06T13:36:01.902327",
     "exception": false,
     "start_time": "2024-02-06T13:36:01.892775",
     "status": "completed"
    },
    "tags": []
   },
   "source": [
    "### *Workflow inspired by Manav Sehgal in Titanic Data Science Solution*"
   ]
  },
  {
   "cell_type": "markdown",
   "id": "cf9d4c7d",
   "metadata": {
    "papermill": {
     "duration": 0.00943,
     "end_time": "2024-02-06T13:36:01.921599",
     "exception": false,
     "start_time": "2024-02-06T13:36:01.912169",
     "status": "completed"
    },
    "tags": []
   },
   "source": [
    "## Load libraries, models and Data"
   ]
  },
  {
   "cell_type": "code",
   "execution_count": 1,
   "id": "9016b4b9",
   "metadata": {
    "_cell_guid": "b1076dfc-b9ad-4769-8c92-a6c4dae69d19",
    "_uuid": "8f2839f25d086af736a60e9eeb907d3b93b6e0e5",
    "execution": {
     "iopub.execute_input": "2024-02-06T13:36:01.943554Z",
     "iopub.status.busy": "2024-02-06T13:36:01.942568Z",
     "iopub.status.idle": "2024-02-06T13:36:05.274739Z",
     "shell.execute_reply": "2024-02-06T13:36:05.273707Z"
    },
    "papermill": {
     "duration": 3.346206,
     "end_time": "2024-02-06T13:36:05.277582",
     "exception": false,
     "start_time": "2024-02-06T13:36:01.931376",
     "status": "completed"
    },
    "tags": []
   },
   "outputs": [],
   "source": [
    "import pandas as pd\n",
    "import numpy as np\n",
    "import random as rnd\n",
    "\n",
    "import seaborn as sns\n",
    "import matplotlib.pyplot as plt\n",
    "%matplotlib inline\n",
    "\n",
    "from sklearn.linear_model import LogisticRegression\n",
    "from sklearn.svm import SVC, LinearSVC\n",
    "from sklearn.ensemble import RandomForestClassifier\n",
    "from sklearn.neighbors import KNeighborsClassifier\n",
    "from sklearn.naive_bayes import GaussianNB\n",
    "from sklearn.linear_model import Perceptron\n",
    "from sklearn.linear_model import SGDClassifier\n",
    "from sklearn.tree import DecisionTreeClassifier"
   ]
  },
  {
   "cell_type": "code",
   "execution_count": 2,
   "id": "e6351797",
   "metadata": {
    "execution": {
     "iopub.execute_input": "2024-02-06T13:36:05.300644Z",
     "iopub.status.busy": "2024-02-06T13:36:05.299623Z",
     "iopub.status.idle": "2024-02-06T13:36:05.307767Z",
     "shell.execute_reply": "2024-02-06T13:36:05.306778Z"
    },
    "papermill": {
     "duration": 0.022953,
     "end_time": "2024-02-06T13:36:05.310519",
     "exception": false,
     "start_time": "2024-02-06T13:36:05.287566",
     "status": "completed"
    },
    "tags": []
   },
   "outputs": [],
   "source": [
    "sns.set_palette(\"Set2\")"
   ]
  },
  {
   "cell_type": "code",
   "execution_count": 3,
   "id": "5121d6a9",
   "metadata": {
    "execution": {
     "iopub.execute_input": "2024-02-06T13:36:05.331549Z",
     "iopub.status.busy": "2024-02-06T13:36:05.330791Z",
     "iopub.status.idle": "2024-02-06T13:36:05.421729Z",
     "shell.execute_reply": "2024-02-06T13:36:05.420479Z"
    },
    "papermill": {
     "duration": 0.105084,
     "end_time": "2024-02-06T13:36:05.424953",
     "exception": false,
     "start_time": "2024-02-06T13:36:05.319869",
     "status": "completed"
    },
    "tags": []
   },
   "outputs": [],
   "source": [
    "train_df = pd.read_csv('/kaggle/input/spaceship-titanic/train.csv')\n",
    "test_df = pd.read_csv('/kaggle/input/spaceship-titanic/test.csv')\n",
    "combine = [train_df, test_df]"
   ]
  },
  {
   "cell_type": "markdown",
   "id": "e240c483",
   "metadata": {
    "papermill": {
     "duration": 0.008932,
     "end_time": "2024-02-06T13:36:05.443082",
     "exception": false,
     "start_time": "2024-02-06T13:36:05.434150",
     "status": "completed"
    },
    "tags": []
   },
   "source": [
    "## Data Analysis"
   ]
  },
  {
   "cell_type": "markdown",
   "id": "4d4b9441",
   "metadata": {
    "papermill": {
     "duration": 0.008835,
     "end_time": "2024-02-06T13:36:05.461544",
     "exception": false,
     "start_time": "2024-02-06T13:36:05.452709",
     "status": "completed"
    },
    "tags": []
   },
   "source": [
    "### Describe data"
   ]
  },
  {
   "cell_type": "code",
   "execution_count": 4,
   "id": "f66dda48",
   "metadata": {
    "execution": {
     "iopub.execute_input": "2024-02-06T13:36:05.481897Z",
     "iopub.status.busy": "2024-02-06T13:36:05.481439Z",
     "iopub.status.idle": "2024-02-06T13:36:05.489926Z",
     "shell.execute_reply": "2024-02-06T13:36:05.488785Z"
    },
    "papermill": {
     "duration": 0.021513,
     "end_time": "2024-02-06T13:36:05.492339",
     "exception": false,
     "start_time": "2024-02-06T13:36:05.470826",
     "status": "completed"
    },
    "tags": []
   },
   "outputs": [
    {
     "data": {
      "text/plain": [
       "array(['PassengerId', 'HomePlanet', 'CryoSleep', 'Cabin', 'Destination',\n",
       "       'Age', 'VIP', 'RoomService', 'FoodCourt', 'ShoppingMall', 'Spa',\n",
       "       'VRDeck', 'Name', 'Transported'], dtype=object)"
      ]
     },
     "execution_count": 4,
     "metadata": {},
     "output_type": "execute_result"
    }
   ],
   "source": [
    "train_df.columns.values"
   ]
  },
  {
   "cell_type": "code",
   "execution_count": 5,
   "id": "39286e4a",
   "metadata": {
    "execution": {
     "iopub.execute_input": "2024-02-06T13:36:05.513307Z",
     "iopub.status.busy": "2024-02-06T13:36:05.512542Z",
     "iopub.status.idle": "2024-02-06T13:36:05.538807Z",
     "shell.execute_reply": "2024-02-06T13:36:05.537498Z"
    },
    "papermill": {
     "duration": 0.039715,
     "end_time": "2024-02-06T13:36:05.541210",
     "exception": false,
     "start_time": "2024-02-06T13:36:05.501495",
     "status": "completed"
    },
    "tags": []
   },
   "outputs": [
    {
     "data": {
      "text/html": [
       "<div>\n",
       "<style scoped>\n",
       "    .dataframe tbody tr th:only-of-type {\n",
       "        vertical-align: middle;\n",
       "    }\n",
       "\n",
       "    .dataframe tbody tr th {\n",
       "        vertical-align: top;\n",
       "    }\n",
       "\n",
       "    .dataframe thead th {\n",
       "        text-align: right;\n",
       "    }\n",
       "</style>\n",
       "<table border=\"1\" class=\"dataframe\">\n",
       "  <thead>\n",
       "    <tr style=\"text-align: right;\">\n",
       "      <th></th>\n",
       "      <th>PassengerId</th>\n",
       "      <th>HomePlanet</th>\n",
       "      <th>CryoSleep</th>\n",
       "      <th>Cabin</th>\n",
       "      <th>Destination</th>\n",
       "      <th>Age</th>\n",
       "      <th>VIP</th>\n",
       "      <th>RoomService</th>\n",
       "      <th>FoodCourt</th>\n",
       "      <th>ShoppingMall</th>\n",
       "      <th>Spa</th>\n",
       "      <th>VRDeck</th>\n",
       "      <th>Name</th>\n",
       "      <th>Transported</th>\n",
       "    </tr>\n",
       "  </thead>\n",
       "  <tbody>\n",
       "    <tr>\n",
       "      <th>0</th>\n",
       "      <td>0001_01</td>\n",
       "      <td>Europa</td>\n",
       "      <td>False</td>\n",
       "      <td>B/0/P</td>\n",
       "      <td>TRAPPIST-1e</td>\n",
       "      <td>39.0</td>\n",
       "      <td>False</td>\n",
       "      <td>0.0</td>\n",
       "      <td>0.0</td>\n",
       "      <td>0.0</td>\n",
       "      <td>0.0</td>\n",
       "      <td>0.0</td>\n",
       "      <td>Maham Ofracculy</td>\n",
       "      <td>False</td>\n",
       "    </tr>\n",
       "    <tr>\n",
       "      <th>1</th>\n",
       "      <td>0002_01</td>\n",
       "      <td>Earth</td>\n",
       "      <td>False</td>\n",
       "      <td>F/0/S</td>\n",
       "      <td>TRAPPIST-1e</td>\n",
       "      <td>24.0</td>\n",
       "      <td>False</td>\n",
       "      <td>109.0</td>\n",
       "      <td>9.0</td>\n",
       "      <td>25.0</td>\n",
       "      <td>549.0</td>\n",
       "      <td>44.0</td>\n",
       "      <td>Juanna Vines</td>\n",
       "      <td>True</td>\n",
       "    </tr>\n",
       "    <tr>\n",
       "      <th>2</th>\n",
       "      <td>0003_01</td>\n",
       "      <td>Europa</td>\n",
       "      <td>False</td>\n",
       "      <td>A/0/S</td>\n",
       "      <td>TRAPPIST-1e</td>\n",
       "      <td>58.0</td>\n",
       "      <td>True</td>\n",
       "      <td>43.0</td>\n",
       "      <td>3576.0</td>\n",
       "      <td>0.0</td>\n",
       "      <td>6715.0</td>\n",
       "      <td>49.0</td>\n",
       "      <td>Altark Susent</td>\n",
       "      <td>False</td>\n",
       "    </tr>\n",
       "    <tr>\n",
       "      <th>3</th>\n",
       "      <td>0003_02</td>\n",
       "      <td>Europa</td>\n",
       "      <td>False</td>\n",
       "      <td>A/0/S</td>\n",
       "      <td>TRAPPIST-1e</td>\n",
       "      <td>33.0</td>\n",
       "      <td>False</td>\n",
       "      <td>0.0</td>\n",
       "      <td>1283.0</td>\n",
       "      <td>371.0</td>\n",
       "      <td>3329.0</td>\n",
       "      <td>193.0</td>\n",
       "      <td>Solam Susent</td>\n",
       "      <td>False</td>\n",
       "    </tr>\n",
       "    <tr>\n",
       "      <th>4</th>\n",
       "      <td>0004_01</td>\n",
       "      <td>Earth</td>\n",
       "      <td>False</td>\n",
       "      <td>F/1/S</td>\n",
       "      <td>TRAPPIST-1e</td>\n",
       "      <td>16.0</td>\n",
       "      <td>False</td>\n",
       "      <td>303.0</td>\n",
       "      <td>70.0</td>\n",
       "      <td>151.0</td>\n",
       "      <td>565.0</td>\n",
       "      <td>2.0</td>\n",
       "      <td>Willy Santantines</td>\n",
       "      <td>True</td>\n",
       "    </tr>\n",
       "  </tbody>\n",
       "</table>\n",
       "</div>"
      ],
      "text/plain": [
       "  PassengerId HomePlanet CryoSleep  Cabin  Destination   Age    VIP  \\\n",
       "0     0001_01     Europa     False  B/0/P  TRAPPIST-1e  39.0  False   \n",
       "1     0002_01      Earth     False  F/0/S  TRAPPIST-1e  24.0  False   \n",
       "2     0003_01     Europa     False  A/0/S  TRAPPIST-1e  58.0   True   \n",
       "3     0003_02     Europa     False  A/0/S  TRAPPIST-1e  33.0  False   \n",
       "4     0004_01      Earth     False  F/1/S  TRAPPIST-1e  16.0  False   \n",
       "\n",
       "   RoomService  FoodCourt  ShoppingMall     Spa  VRDeck               Name  \\\n",
       "0          0.0        0.0           0.0     0.0     0.0    Maham Ofracculy   \n",
       "1        109.0        9.0          25.0   549.0    44.0       Juanna Vines   \n",
       "2         43.0     3576.0           0.0  6715.0    49.0      Altark Susent   \n",
       "3          0.0     1283.0         371.0  3329.0   193.0       Solam Susent   \n",
       "4        303.0       70.0         151.0   565.0     2.0  Willy Santantines   \n",
       "\n",
       "   Transported  \n",
       "0        False  \n",
       "1         True  \n",
       "2        False  \n",
       "3        False  \n",
       "4         True  "
      ]
     },
     "execution_count": 5,
     "metadata": {},
     "output_type": "execute_result"
    }
   ],
   "source": [
    "train_df.head()"
   ]
  },
  {
   "cell_type": "markdown",
   "id": "6051dba3",
   "metadata": {
    "papermill": {
     "duration": 0.009321,
     "end_time": "2024-02-06T13:36:05.560216",
     "exception": false,
     "start_time": "2024-02-06T13:36:05.550895",
     "status": "completed"
    },
    "tags": []
   },
   "source": [
    "* categorical: HomePlanet, CryoSleep, VIP, Transported\n",
    "* numerical: Age, RoomService, FoodCourt, ShoppingMall, Spa, VRDeck\n",
    "* mixed (numeric and alphanumeric): Cabin, Destination"
   ]
  },
  {
   "cell_type": "code",
   "execution_count": 6,
   "id": "00365ead",
   "metadata": {
    "execution": {
     "iopub.execute_input": "2024-02-06T13:36:05.580857Z",
     "iopub.status.busy": "2024-02-06T13:36:05.580392Z",
     "iopub.status.idle": "2024-02-06T13:36:05.601919Z",
     "shell.execute_reply": "2024-02-06T13:36:05.600576Z"
    },
    "papermill": {
     "duration": 0.034735,
     "end_time": "2024-02-06T13:36:05.604323",
     "exception": false,
     "start_time": "2024-02-06T13:36:05.569588",
     "status": "completed"
    },
    "tags": []
   },
   "outputs": [
    {
     "data": {
      "text/html": [
       "<div>\n",
       "<style scoped>\n",
       "    .dataframe tbody tr th:only-of-type {\n",
       "        vertical-align: middle;\n",
       "    }\n",
       "\n",
       "    .dataframe tbody tr th {\n",
       "        vertical-align: top;\n",
       "    }\n",
       "\n",
       "    .dataframe thead th {\n",
       "        text-align: right;\n",
       "    }\n",
       "</style>\n",
       "<table border=\"1\" class=\"dataframe\">\n",
       "  <thead>\n",
       "    <tr style=\"text-align: right;\">\n",
       "      <th></th>\n",
       "      <th>PassengerId</th>\n",
       "      <th>HomePlanet</th>\n",
       "      <th>CryoSleep</th>\n",
       "      <th>Cabin</th>\n",
       "      <th>Destination</th>\n",
       "      <th>Age</th>\n",
       "      <th>VIP</th>\n",
       "      <th>RoomService</th>\n",
       "      <th>FoodCourt</th>\n",
       "      <th>ShoppingMall</th>\n",
       "      <th>Spa</th>\n",
       "      <th>VRDeck</th>\n",
       "      <th>Name</th>\n",
       "      <th>Transported</th>\n",
       "    </tr>\n",
       "  </thead>\n",
       "  <tbody>\n",
       "    <tr>\n",
       "      <th>8688</th>\n",
       "      <td>9276_01</td>\n",
       "      <td>Europa</td>\n",
       "      <td>False</td>\n",
       "      <td>A/98/P</td>\n",
       "      <td>55 Cancri e</td>\n",
       "      <td>41.0</td>\n",
       "      <td>True</td>\n",
       "      <td>0.0</td>\n",
       "      <td>6819.0</td>\n",
       "      <td>0.0</td>\n",
       "      <td>1643.0</td>\n",
       "      <td>74.0</td>\n",
       "      <td>Gravior Noxnuther</td>\n",
       "      <td>False</td>\n",
       "    </tr>\n",
       "    <tr>\n",
       "      <th>8689</th>\n",
       "      <td>9278_01</td>\n",
       "      <td>Earth</td>\n",
       "      <td>True</td>\n",
       "      <td>G/1499/S</td>\n",
       "      <td>PSO J318.5-22</td>\n",
       "      <td>18.0</td>\n",
       "      <td>False</td>\n",
       "      <td>0.0</td>\n",
       "      <td>0.0</td>\n",
       "      <td>0.0</td>\n",
       "      <td>0.0</td>\n",
       "      <td>0.0</td>\n",
       "      <td>Kurta Mondalley</td>\n",
       "      <td>False</td>\n",
       "    </tr>\n",
       "    <tr>\n",
       "      <th>8690</th>\n",
       "      <td>9279_01</td>\n",
       "      <td>Earth</td>\n",
       "      <td>False</td>\n",
       "      <td>G/1500/S</td>\n",
       "      <td>TRAPPIST-1e</td>\n",
       "      <td>26.0</td>\n",
       "      <td>False</td>\n",
       "      <td>0.0</td>\n",
       "      <td>0.0</td>\n",
       "      <td>1872.0</td>\n",
       "      <td>1.0</td>\n",
       "      <td>0.0</td>\n",
       "      <td>Fayey Connon</td>\n",
       "      <td>True</td>\n",
       "    </tr>\n",
       "    <tr>\n",
       "      <th>8691</th>\n",
       "      <td>9280_01</td>\n",
       "      <td>Europa</td>\n",
       "      <td>False</td>\n",
       "      <td>E/608/S</td>\n",
       "      <td>55 Cancri e</td>\n",
       "      <td>32.0</td>\n",
       "      <td>False</td>\n",
       "      <td>0.0</td>\n",
       "      <td>1049.0</td>\n",
       "      <td>0.0</td>\n",
       "      <td>353.0</td>\n",
       "      <td>3235.0</td>\n",
       "      <td>Celeon Hontichre</td>\n",
       "      <td>False</td>\n",
       "    </tr>\n",
       "    <tr>\n",
       "      <th>8692</th>\n",
       "      <td>9280_02</td>\n",
       "      <td>Europa</td>\n",
       "      <td>False</td>\n",
       "      <td>E/608/S</td>\n",
       "      <td>TRAPPIST-1e</td>\n",
       "      <td>44.0</td>\n",
       "      <td>False</td>\n",
       "      <td>126.0</td>\n",
       "      <td>4688.0</td>\n",
       "      <td>0.0</td>\n",
       "      <td>0.0</td>\n",
       "      <td>12.0</td>\n",
       "      <td>Propsh Hontichre</td>\n",
       "      <td>True</td>\n",
       "    </tr>\n",
       "  </tbody>\n",
       "</table>\n",
       "</div>"
      ],
      "text/plain": [
       "     PassengerId HomePlanet CryoSleep     Cabin    Destination   Age    VIP  \\\n",
       "8688     9276_01     Europa     False    A/98/P    55 Cancri e  41.0   True   \n",
       "8689     9278_01      Earth      True  G/1499/S  PSO J318.5-22  18.0  False   \n",
       "8690     9279_01      Earth     False  G/1500/S    TRAPPIST-1e  26.0  False   \n",
       "8691     9280_01     Europa     False   E/608/S    55 Cancri e  32.0  False   \n",
       "8692     9280_02     Europa     False   E/608/S    TRAPPIST-1e  44.0  False   \n",
       "\n",
       "      RoomService  FoodCourt  ShoppingMall     Spa  VRDeck               Name  \\\n",
       "8688          0.0     6819.0           0.0  1643.0    74.0  Gravior Noxnuther   \n",
       "8689          0.0        0.0           0.0     0.0     0.0    Kurta Mondalley   \n",
       "8690          0.0        0.0        1872.0     1.0     0.0       Fayey Connon   \n",
       "8691          0.0     1049.0           0.0   353.0  3235.0   Celeon Hontichre   \n",
       "8692        126.0     4688.0           0.0     0.0    12.0   Propsh Hontichre   \n",
       "\n",
       "      Transported  \n",
       "8688        False  \n",
       "8689        False  \n",
       "8690         True  \n",
       "8691        False  \n",
       "8692         True  "
      ]
     },
     "execution_count": 6,
     "metadata": {},
     "output_type": "execute_result"
    }
   ],
   "source": [
    "train_df.tail()"
   ]
  },
  {
   "cell_type": "code",
   "execution_count": 7,
   "id": "ee27071e",
   "metadata": {
    "execution": {
     "iopub.execute_input": "2024-02-06T13:36:05.626635Z",
     "iopub.status.busy": "2024-02-06T13:36:05.625718Z",
     "iopub.status.idle": "2024-02-06T13:36:05.665303Z",
     "shell.execute_reply": "2024-02-06T13:36:05.663991Z"
    },
    "papermill": {
     "duration": 0.053889,
     "end_time": "2024-02-06T13:36:05.668062",
     "exception": false,
     "start_time": "2024-02-06T13:36:05.614173",
     "status": "completed"
    },
    "tags": []
   },
   "outputs": [
    {
     "name": "stdout",
     "output_type": "stream",
     "text": [
      "<class 'pandas.core.frame.DataFrame'>\n",
      "RangeIndex: 8693 entries, 0 to 8692\n",
      "Data columns (total 14 columns):\n",
      " #   Column        Non-Null Count  Dtype  \n",
      "---  ------        --------------  -----  \n",
      " 0   PassengerId   8693 non-null   object \n",
      " 1   HomePlanet    8492 non-null   object \n",
      " 2   CryoSleep     8476 non-null   object \n",
      " 3   Cabin         8494 non-null   object \n",
      " 4   Destination   8511 non-null   object \n",
      " 5   Age           8514 non-null   float64\n",
      " 6   VIP           8490 non-null   object \n",
      " 7   RoomService   8512 non-null   float64\n",
      " 8   FoodCourt     8510 non-null   float64\n",
      " 9   ShoppingMall  8485 non-null   float64\n",
      " 10  Spa           8510 non-null   float64\n",
      " 11  VRDeck        8505 non-null   float64\n",
      " 12  Name          8493 non-null   object \n",
      " 13  Transported   8693 non-null   bool   \n",
      "dtypes: bool(1), float64(6), object(7)\n",
      "memory usage: 891.5+ KB\n",
      "----------------------------------------\n",
      "<class 'pandas.core.frame.DataFrame'>\n",
      "RangeIndex: 4277 entries, 0 to 4276\n",
      "Data columns (total 13 columns):\n",
      " #   Column        Non-Null Count  Dtype  \n",
      "---  ------        --------------  -----  \n",
      " 0   PassengerId   4277 non-null   object \n",
      " 1   HomePlanet    4190 non-null   object \n",
      " 2   CryoSleep     4184 non-null   object \n",
      " 3   Cabin         4177 non-null   object \n",
      " 4   Destination   4185 non-null   object \n",
      " 5   Age           4186 non-null   float64\n",
      " 6   VIP           4184 non-null   object \n",
      " 7   RoomService   4195 non-null   float64\n",
      " 8   FoodCourt     4171 non-null   float64\n",
      " 9   ShoppingMall  4179 non-null   float64\n",
      " 10  Spa           4176 non-null   float64\n",
      " 11  VRDeck        4197 non-null   float64\n",
      " 12  Name          4183 non-null   object \n",
      "dtypes: float64(6), object(7)\n",
      "memory usage: 434.5+ KB\n"
     ]
    }
   ],
   "source": [
    "train_df.info()\n",
    "print('-'*40)\n",
    "test_df.info()"
   ]
  },
  {
   "cell_type": "code",
   "execution_count": 8,
   "id": "26729036",
   "metadata": {
    "execution": {
     "iopub.execute_input": "2024-02-06T13:36:05.690352Z",
     "iopub.status.busy": "2024-02-06T13:36:05.689896Z",
     "iopub.status.idle": "2024-02-06T13:36:05.721389Z",
     "shell.execute_reply": "2024-02-06T13:36:05.720153Z"
    },
    "papermill": {
     "duration": 0.04593,
     "end_time": "2024-02-06T13:36:05.723801",
     "exception": false,
     "start_time": "2024-02-06T13:36:05.677871",
     "status": "completed"
    },
    "tags": []
   },
   "outputs": [
    {
     "data": {
      "text/html": [
       "<div>\n",
       "<style scoped>\n",
       "    .dataframe tbody tr th:only-of-type {\n",
       "        vertical-align: middle;\n",
       "    }\n",
       "\n",
       "    .dataframe tbody tr th {\n",
       "        vertical-align: top;\n",
       "    }\n",
       "\n",
       "    .dataframe thead th {\n",
       "        text-align: right;\n",
       "    }\n",
       "</style>\n",
       "<table border=\"1\" class=\"dataframe\">\n",
       "  <thead>\n",
       "    <tr style=\"text-align: right;\">\n",
       "      <th></th>\n",
       "      <th>Age</th>\n",
       "      <th>RoomService</th>\n",
       "      <th>FoodCourt</th>\n",
       "      <th>ShoppingMall</th>\n",
       "      <th>Spa</th>\n",
       "      <th>VRDeck</th>\n",
       "    </tr>\n",
       "  </thead>\n",
       "  <tbody>\n",
       "    <tr>\n",
       "      <th>count</th>\n",
       "      <td>8514.000000</td>\n",
       "      <td>8512.000000</td>\n",
       "      <td>8510.000000</td>\n",
       "      <td>8485.000000</td>\n",
       "      <td>8510.000000</td>\n",
       "      <td>8505.000000</td>\n",
       "    </tr>\n",
       "    <tr>\n",
       "      <th>mean</th>\n",
       "      <td>28.827930</td>\n",
       "      <td>224.687617</td>\n",
       "      <td>458.077203</td>\n",
       "      <td>173.729169</td>\n",
       "      <td>311.138778</td>\n",
       "      <td>304.854791</td>\n",
       "    </tr>\n",
       "    <tr>\n",
       "      <th>std</th>\n",
       "      <td>14.489021</td>\n",
       "      <td>666.717663</td>\n",
       "      <td>1611.489240</td>\n",
       "      <td>604.696458</td>\n",
       "      <td>1136.705535</td>\n",
       "      <td>1145.717189</td>\n",
       "    </tr>\n",
       "    <tr>\n",
       "      <th>min</th>\n",
       "      <td>0.000000</td>\n",
       "      <td>0.000000</td>\n",
       "      <td>0.000000</td>\n",
       "      <td>0.000000</td>\n",
       "      <td>0.000000</td>\n",
       "      <td>0.000000</td>\n",
       "    </tr>\n",
       "    <tr>\n",
       "      <th>25%</th>\n",
       "      <td>19.000000</td>\n",
       "      <td>0.000000</td>\n",
       "      <td>0.000000</td>\n",
       "      <td>0.000000</td>\n",
       "      <td>0.000000</td>\n",
       "      <td>0.000000</td>\n",
       "    </tr>\n",
       "    <tr>\n",
       "      <th>50%</th>\n",
       "      <td>27.000000</td>\n",
       "      <td>0.000000</td>\n",
       "      <td>0.000000</td>\n",
       "      <td>0.000000</td>\n",
       "      <td>0.000000</td>\n",
       "      <td>0.000000</td>\n",
       "    </tr>\n",
       "    <tr>\n",
       "      <th>75%</th>\n",
       "      <td>38.000000</td>\n",
       "      <td>47.000000</td>\n",
       "      <td>76.000000</td>\n",
       "      <td>27.000000</td>\n",
       "      <td>59.000000</td>\n",
       "      <td>46.000000</td>\n",
       "    </tr>\n",
       "    <tr>\n",
       "      <th>max</th>\n",
       "      <td>79.000000</td>\n",
       "      <td>14327.000000</td>\n",
       "      <td>29813.000000</td>\n",
       "      <td>23492.000000</td>\n",
       "      <td>22408.000000</td>\n",
       "      <td>24133.000000</td>\n",
       "    </tr>\n",
       "  </tbody>\n",
       "</table>\n",
       "</div>"
      ],
      "text/plain": [
       "               Age   RoomService     FoodCourt  ShoppingMall           Spa  \\\n",
       "count  8514.000000   8512.000000   8510.000000   8485.000000   8510.000000   \n",
       "mean     28.827930    224.687617    458.077203    173.729169    311.138778   \n",
       "std      14.489021    666.717663   1611.489240    604.696458   1136.705535   \n",
       "min       0.000000      0.000000      0.000000      0.000000      0.000000   \n",
       "25%      19.000000      0.000000      0.000000      0.000000      0.000000   \n",
       "50%      27.000000      0.000000      0.000000      0.000000      0.000000   \n",
       "75%      38.000000     47.000000     76.000000     27.000000     59.000000   \n",
       "max      79.000000  14327.000000  29813.000000  23492.000000  22408.000000   \n",
       "\n",
       "             VRDeck  \n",
       "count   8505.000000  \n",
       "mean     304.854791  \n",
       "std     1145.717189  \n",
       "min        0.000000  \n",
       "25%        0.000000  \n",
       "50%        0.000000  \n",
       "75%       46.000000  \n",
       "max    24133.000000  "
      ]
     },
     "execution_count": 8,
     "metadata": {},
     "output_type": "execute_result"
    }
   ],
   "source": [
    "train_df.describe()"
   ]
  },
  {
   "cell_type": "code",
   "execution_count": 9,
   "id": "73810caf",
   "metadata": {
    "execution": {
     "iopub.execute_input": "2024-02-06T13:36:05.745914Z",
     "iopub.status.busy": "2024-02-06T13:36:05.745499Z",
     "iopub.status.idle": "2024-02-06T13:36:05.787095Z",
     "shell.execute_reply": "2024-02-06T13:36:05.785814Z"
    },
    "papermill": {
     "duration": 0.055889,
     "end_time": "2024-02-06T13:36:05.789669",
     "exception": false,
     "start_time": "2024-02-06T13:36:05.733780",
     "status": "completed"
    },
    "tags": []
   },
   "outputs": [
    {
     "data": {
      "text/html": [
       "<div>\n",
       "<style scoped>\n",
       "    .dataframe tbody tr th:only-of-type {\n",
       "        vertical-align: middle;\n",
       "    }\n",
       "\n",
       "    .dataframe tbody tr th {\n",
       "        vertical-align: top;\n",
       "    }\n",
       "\n",
       "    .dataframe thead th {\n",
       "        text-align: right;\n",
       "    }\n",
       "</style>\n",
       "<table border=\"1\" class=\"dataframe\">\n",
       "  <thead>\n",
       "    <tr style=\"text-align: right;\">\n",
       "      <th></th>\n",
       "      <th>PassengerId</th>\n",
       "      <th>HomePlanet</th>\n",
       "      <th>CryoSleep</th>\n",
       "      <th>Cabin</th>\n",
       "      <th>Destination</th>\n",
       "      <th>VIP</th>\n",
       "      <th>Name</th>\n",
       "    </tr>\n",
       "  </thead>\n",
       "  <tbody>\n",
       "    <tr>\n",
       "      <th>count</th>\n",
       "      <td>8693</td>\n",
       "      <td>8492</td>\n",
       "      <td>8476</td>\n",
       "      <td>8494</td>\n",
       "      <td>8511</td>\n",
       "      <td>8490</td>\n",
       "      <td>8493</td>\n",
       "    </tr>\n",
       "    <tr>\n",
       "      <th>unique</th>\n",
       "      <td>8693</td>\n",
       "      <td>3</td>\n",
       "      <td>2</td>\n",
       "      <td>6560</td>\n",
       "      <td>3</td>\n",
       "      <td>2</td>\n",
       "      <td>8473</td>\n",
       "    </tr>\n",
       "    <tr>\n",
       "      <th>top</th>\n",
       "      <td>0001_01</td>\n",
       "      <td>Earth</td>\n",
       "      <td>False</td>\n",
       "      <td>G/734/S</td>\n",
       "      <td>TRAPPIST-1e</td>\n",
       "      <td>False</td>\n",
       "      <td>Gollux Reedall</td>\n",
       "    </tr>\n",
       "    <tr>\n",
       "      <th>freq</th>\n",
       "      <td>1</td>\n",
       "      <td>4602</td>\n",
       "      <td>5439</td>\n",
       "      <td>8</td>\n",
       "      <td>5915</td>\n",
       "      <td>8291</td>\n",
       "      <td>2</td>\n",
       "    </tr>\n",
       "  </tbody>\n",
       "</table>\n",
       "</div>"
      ],
      "text/plain": [
       "       PassengerId HomePlanet CryoSleep    Cabin  Destination    VIP  \\\n",
       "count         8693       8492      8476     8494         8511   8490   \n",
       "unique        8693          3         2     6560            3      2   \n",
       "top        0001_01      Earth     False  G/734/S  TRAPPIST-1e  False   \n",
       "freq             1       4602      5439        8         5915   8291   \n",
       "\n",
       "                  Name  \n",
       "count             8493  \n",
       "unique            8473  \n",
       "top     Gollux Reedall  \n",
       "freq                 2  "
      ]
     },
     "execution_count": 9,
     "metadata": {},
     "output_type": "execute_result"
    }
   ],
   "source": [
    "train_df.describe(include=['O'])"
   ]
  },
  {
   "cell_type": "markdown",
   "id": "25ec3aed",
   "metadata": {
    "papermill": {
     "duration": 0.009929,
     "end_time": "2024-02-06T13:36:05.809860",
     "exception": false,
     "start_time": "2024-02-06T13:36:05.799931",
     "status": "completed"
    },
    "tags": []
   },
   "source": [
    "Column to drop: PassengerId, Cabin, Name"
   ]
  },
  {
   "cell_type": "markdown",
   "id": "af1e498d",
   "metadata": {
    "papermill": {
     "duration": 0.010111,
     "end_time": "2024-02-06T13:36:05.830148",
     "exception": false,
     "start_time": "2024-02-06T13:36:05.820037",
     "status": "completed"
    },
    "tags": []
   },
   "source": [
    "### Pivoting features"
   ]
  },
  {
   "cell_type": "markdown",
   "id": "a6703e05",
   "metadata": {
    "papermill": {
     "duration": 0.01027,
     "end_time": "2024-02-06T13:36:05.851362",
     "exception": false,
     "start_time": "2024-02-06T13:36:05.841092",
     "status": "completed"
    },
    "tags": []
   },
   "source": [
    "convert column Transported to numerical"
   ]
  },
  {
   "cell_type": "code",
   "execution_count": 10,
   "id": "e3537090",
   "metadata": {
    "execution": {
     "iopub.execute_input": "2024-02-06T13:36:05.874645Z",
     "iopub.status.busy": "2024-02-06T13:36:05.874174Z",
     "iopub.status.idle": "2024-02-06T13:36:05.883312Z",
     "shell.execute_reply": "2024-02-06T13:36:05.882110Z"
    },
    "papermill": {
     "duration": 0.024228,
     "end_time": "2024-02-06T13:36:05.885999",
     "exception": false,
     "start_time": "2024-02-06T13:36:05.861771",
     "status": "completed"
    },
    "tags": []
   },
   "outputs": [],
   "source": [
    "train_df['Transported'] = train_df['Transported'].map({True: 1, False: 0}).astype(int)"
   ]
  },
  {
   "cell_type": "code",
   "execution_count": 11,
   "id": "2d6f2fef",
   "metadata": {
    "execution": {
     "iopub.execute_input": "2024-02-06T13:36:05.909498Z",
     "iopub.status.busy": "2024-02-06T13:36:05.909050Z",
     "iopub.status.idle": "2024-02-06T13:36:05.930462Z",
     "shell.execute_reply": "2024-02-06T13:36:05.929079Z"
    },
    "papermill": {
     "duration": 0.036341,
     "end_time": "2024-02-06T13:36:05.933176",
     "exception": false,
     "start_time": "2024-02-06T13:36:05.896835",
     "status": "completed"
    },
    "tags": []
   },
   "outputs": [
    {
     "data": {
      "text/html": [
       "<div>\n",
       "<style scoped>\n",
       "    .dataframe tbody tr th:only-of-type {\n",
       "        vertical-align: middle;\n",
       "    }\n",
       "\n",
       "    .dataframe tbody tr th {\n",
       "        vertical-align: top;\n",
       "    }\n",
       "\n",
       "    .dataframe thead th {\n",
       "        text-align: right;\n",
       "    }\n",
       "</style>\n",
       "<table border=\"1\" class=\"dataframe\">\n",
       "  <thead>\n",
       "    <tr style=\"text-align: right;\">\n",
       "      <th></th>\n",
       "      <th>PassengerId</th>\n",
       "      <th>HomePlanet</th>\n",
       "      <th>CryoSleep</th>\n",
       "      <th>Cabin</th>\n",
       "      <th>Destination</th>\n",
       "      <th>Age</th>\n",
       "      <th>VIP</th>\n",
       "      <th>RoomService</th>\n",
       "      <th>FoodCourt</th>\n",
       "      <th>ShoppingMall</th>\n",
       "      <th>Spa</th>\n",
       "      <th>VRDeck</th>\n",
       "      <th>Name</th>\n",
       "      <th>Transported</th>\n",
       "    </tr>\n",
       "  </thead>\n",
       "  <tbody>\n",
       "    <tr>\n",
       "      <th>0</th>\n",
       "      <td>0001_01</td>\n",
       "      <td>Europa</td>\n",
       "      <td>False</td>\n",
       "      <td>B/0/P</td>\n",
       "      <td>TRAPPIST-1e</td>\n",
       "      <td>39.0</td>\n",
       "      <td>False</td>\n",
       "      <td>0.0</td>\n",
       "      <td>0.0</td>\n",
       "      <td>0.0</td>\n",
       "      <td>0.0</td>\n",
       "      <td>0.0</td>\n",
       "      <td>Maham Ofracculy</td>\n",
       "      <td>0</td>\n",
       "    </tr>\n",
       "    <tr>\n",
       "      <th>1</th>\n",
       "      <td>0002_01</td>\n",
       "      <td>Earth</td>\n",
       "      <td>False</td>\n",
       "      <td>F/0/S</td>\n",
       "      <td>TRAPPIST-1e</td>\n",
       "      <td>24.0</td>\n",
       "      <td>False</td>\n",
       "      <td>109.0</td>\n",
       "      <td>9.0</td>\n",
       "      <td>25.0</td>\n",
       "      <td>549.0</td>\n",
       "      <td>44.0</td>\n",
       "      <td>Juanna Vines</td>\n",
       "      <td>1</td>\n",
       "    </tr>\n",
       "    <tr>\n",
       "      <th>2</th>\n",
       "      <td>0003_01</td>\n",
       "      <td>Europa</td>\n",
       "      <td>False</td>\n",
       "      <td>A/0/S</td>\n",
       "      <td>TRAPPIST-1e</td>\n",
       "      <td>58.0</td>\n",
       "      <td>True</td>\n",
       "      <td>43.0</td>\n",
       "      <td>3576.0</td>\n",
       "      <td>0.0</td>\n",
       "      <td>6715.0</td>\n",
       "      <td>49.0</td>\n",
       "      <td>Altark Susent</td>\n",
       "      <td>0</td>\n",
       "    </tr>\n",
       "    <tr>\n",
       "      <th>3</th>\n",
       "      <td>0003_02</td>\n",
       "      <td>Europa</td>\n",
       "      <td>False</td>\n",
       "      <td>A/0/S</td>\n",
       "      <td>TRAPPIST-1e</td>\n",
       "      <td>33.0</td>\n",
       "      <td>False</td>\n",
       "      <td>0.0</td>\n",
       "      <td>1283.0</td>\n",
       "      <td>371.0</td>\n",
       "      <td>3329.0</td>\n",
       "      <td>193.0</td>\n",
       "      <td>Solam Susent</td>\n",
       "      <td>0</td>\n",
       "    </tr>\n",
       "    <tr>\n",
       "      <th>4</th>\n",
       "      <td>0004_01</td>\n",
       "      <td>Earth</td>\n",
       "      <td>False</td>\n",
       "      <td>F/1/S</td>\n",
       "      <td>TRAPPIST-1e</td>\n",
       "      <td>16.0</td>\n",
       "      <td>False</td>\n",
       "      <td>303.0</td>\n",
       "      <td>70.0</td>\n",
       "      <td>151.0</td>\n",
       "      <td>565.0</td>\n",
       "      <td>2.0</td>\n",
       "      <td>Willy Santantines</td>\n",
       "      <td>1</td>\n",
       "    </tr>\n",
       "  </tbody>\n",
       "</table>\n",
       "</div>"
      ],
      "text/plain": [
       "  PassengerId HomePlanet CryoSleep  Cabin  Destination   Age    VIP  \\\n",
       "0     0001_01     Europa     False  B/0/P  TRAPPIST-1e  39.0  False   \n",
       "1     0002_01      Earth     False  F/0/S  TRAPPIST-1e  24.0  False   \n",
       "2     0003_01     Europa     False  A/0/S  TRAPPIST-1e  58.0   True   \n",
       "3     0003_02     Europa     False  A/0/S  TRAPPIST-1e  33.0  False   \n",
       "4     0004_01      Earth     False  F/1/S  TRAPPIST-1e  16.0  False   \n",
       "\n",
       "   RoomService  FoodCourt  ShoppingMall     Spa  VRDeck               Name  \\\n",
       "0          0.0        0.0           0.0     0.0     0.0    Maham Ofracculy   \n",
       "1        109.0        9.0          25.0   549.0    44.0       Juanna Vines   \n",
       "2         43.0     3576.0           0.0  6715.0    49.0      Altark Susent   \n",
       "3          0.0     1283.0         371.0  3329.0   193.0       Solam Susent   \n",
       "4        303.0       70.0         151.0   565.0     2.0  Willy Santantines   \n",
       "\n",
       "   Transported  \n",
       "0            0  \n",
       "1            1  \n",
       "2            0  \n",
       "3            0  \n",
       "4            1  "
      ]
     },
     "execution_count": 11,
     "metadata": {},
     "output_type": "execute_result"
    }
   ],
   "source": [
    "train_df.head()"
   ]
  },
  {
   "cell_type": "code",
   "execution_count": 12,
   "id": "dfbad2e6",
   "metadata": {
    "execution": {
     "iopub.execute_input": "2024-02-06T13:36:05.956864Z",
     "iopub.status.busy": "2024-02-06T13:36:05.955649Z",
     "iopub.status.idle": "2024-02-06T13:36:05.976611Z",
     "shell.execute_reply": "2024-02-06T13:36:05.975638Z"
    },
    "papermill": {
     "duration": 0.035301,
     "end_time": "2024-02-06T13:36:05.978997",
     "exception": false,
     "start_time": "2024-02-06T13:36:05.943696",
     "status": "completed"
    },
    "tags": []
   },
   "outputs": [
    {
     "data": {
      "text/html": [
       "<div>\n",
       "<style scoped>\n",
       "    .dataframe tbody tr th:only-of-type {\n",
       "        vertical-align: middle;\n",
       "    }\n",
       "\n",
       "    .dataframe tbody tr th {\n",
       "        vertical-align: top;\n",
       "    }\n",
       "\n",
       "    .dataframe thead th {\n",
       "        text-align: right;\n",
       "    }\n",
       "</style>\n",
       "<table border=\"1\" class=\"dataframe\">\n",
       "  <thead>\n",
       "    <tr style=\"text-align: right;\">\n",
       "      <th></th>\n",
       "      <th>HomePlanet</th>\n",
       "      <th>Transported</th>\n",
       "    </tr>\n",
       "  </thead>\n",
       "  <tbody>\n",
       "    <tr>\n",
       "      <th>1</th>\n",
       "      <td>Europa</td>\n",
       "      <td>0.658846</td>\n",
       "    </tr>\n",
       "    <tr>\n",
       "      <th>2</th>\n",
       "      <td>Mars</td>\n",
       "      <td>0.523024</td>\n",
       "    </tr>\n",
       "    <tr>\n",
       "      <th>0</th>\n",
       "      <td>Earth</td>\n",
       "      <td>0.423946</td>\n",
       "    </tr>\n",
       "  </tbody>\n",
       "</table>\n",
       "</div>"
      ],
      "text/plain": [
       "  HomePlanet  Transported\n",
       "1     Europa     0.658846\n",
       "2       Mars     0.523024\n",
       "0      Earth     0.423946"
      ]
     },
     "execution_count": 12,
     "metadata": {},
     "output_type": "execute_result"
    }
   ],
   "source": [
    "train_df[['HomePlanet', 'Transported']].groupby(['HomePlanet'], as_index=False).mean().sort_values(by='Transported', ascending=False)"
   ]
  },
  {
   "cell_type": "code",
   "execution_count": 13,
   "id": "300cb422",
   "metadata": {
    "execution": {
     "iopub.execute_input": "2024-02-06T13:36:06.003942Z",
     "iopub.status.busy": "2024-02-06T13:36:06.002554Z",
     "iopub.status.idle": "2024-02-06T13:36:06.018640Z",
     "shell.execute_reply": "2024-02-06T13:36:06.017769Z"
    },
    "papermill": {
     "duration": 0.030825,
     "end_time": "2024-02-06T13:36:06.021089",
     "exception": false,
     "start_time": "2024-02-06T13:36:05.990264",
     "status": "completed"
    },
    "tags": []
   },
   "outputs": [
    {
     "data": {
      "text/html": [
       "<div>\n",
       "<style scoped>\n",
       "    .dataframe tbody tr th:only-of-type {\n",
       "        vertical-align: middle;\n",
       "    }\n",
       "\n",
       "    .dataframe tbody tr th {\n",
       "        vertical-align: top;\n",
       "    }\n",
       "\n",
       "    .dataframe thead th {\n",
       "        text-align: right;\n",
       "    }\n",
       "</style>\n",
       "<table border=\"1\" class=\"dataframe\">\n",
       "  <thead>\n",
       "    <tr style=\"text-align: right;\">\n",
       "      <th></th>\n",
       "      <th>CryoSleep</th>\n",
       "      <th>Transported</th>\n",
       "    </tr>\n",
       "  </thead>\n",
       "  <tbody>\n",
       "    <tr>\n",
       "      <th>1</th>\n",
       "      <td>True</td>\n",
       "      <td>0.817583</td>\n",
       "    </tr>\n",
       "    <tr>\n",
       "      <th>0</th>\n",
       "      <td>False</td>\n",
       "      <td>0.328921</td>\n",
       "    </tr>\n",
       "  </tbody>\n",
       "</table>\n",
       "</div>"
      ],
      "text/plain": [
       "  CryoSleep  Transported\n",
       "1      True     0.817583\n",
       "0     False     0.328921"
      ]
     },
     "execution_count": 13,
     "metadata": {},
     "output_type": "execute_result"
    }
   ],
   "source": [
    "train_df[['CryoSleep', 'Transported']].groupby(['CryoSleep'], as_index=False).mean().sort_values(by='Transported', ascending=False)"
   ]
  },
  {
   "cell_type": "code",
   "execution_count": 14,
   "id": "0d86acd5",
   "metadata": {
    "execution": {
     "iopub.execute_input": "2024-02-06T13:36:06.046447Z",
     "iopub.status.busy": "2024-02-06T13:36:06.045232Z",
     "iopub.status.idle": "2024-02-06T13:36:06.060916Z",
     "shell.execute_reply": "2024-02-06T13:36:06.059735Z"
    },
    "papermill": {
     "duration": 0.030696,
     "end_time": "2024-02-06T13:36:06.063348",
     "exception": false,
     "start_time": "2024-02-06T13:36:06.032652",
     "status": "completed"
    },
    "tags": []
   },
   "outputs": [
    {
     "data": {
      "text/html": [
       "<div>\n",
       "<style scoped>\n",
       "    .dataframe tbody tr th:only-of-type {\n",
       "        vertical-align: middle;\n",
       "    }\n",
       "\n",
       "    .dataframe tbody tr th {\n",
       "        vertical-align: top;\n",
       "    }\n",
       "\n",
       "    .dataframe thead th {\n",
       "        text-align: right;\n",
       "    }\n",
       "</style>\n",
       "<table border=\"1\" class=\"dataframe\">\n",
       "  <thead>\n",
       "    <tr style=\"text-align: right;\">\n",
       "      <th></th>\n",
       "      <th>Destination</th>\n",
       "      <th>Transported</th>\n",
       "    </tr>\n",
       "  </thead>\n",
       "  <tbody>\n",
       "    <tr>\n",
       "      <th>0</th>\n",
       "      <td>55 Cancri e</td>\n",
       "      <td>0.610000</td>\n",
       "    </tr>\n",
       "    <tr>\n",
       "      <th>1</th>\n",
       "      <td>PSO J318.5-22</td>\n",
       "      <td>0.503769</td>\n",
       "    </tr>\n",
       "    <tr>\n",
       "      <th>2</th>\n",
       "      <td>TRAPPIST-1e</td>\n",
       "      <td>0.471175</td>\n",
       "    </tr>\n",
       "  </tbody>\n",
       "</table>\n",
       "</div>"
      ],
      "text/plain": [
       "     Destination  Transported\n",
       "0    55 Cancri e     0.610000\n",
       "1  PSO J318.5-22     0.503769\n",
       "2    TRAPPIST-1e     0.471175"
      ]
     },
     "execution_count": 14,
     "metadata": {},
     "output_type": "execute_result"
    }
   ],
   "source": [
    "train_df[['Destination', 'Transported']].groupby(['Destination'], as_index=False).mean().sort_values(by='Transported', ascending=False)"
   ]
  },
  {
   "cell_type": "code",
   "execution_count": 15,
   "id": "37d3a5f1",
   "metadata": {
    "execution": {
     "iopub.execute_input": "2024-02-06T13:36:06.088385Z",
     "iopub.status.busy": "2024-02-06T13:36:06.087007Z",
     "iopub.status.idle": "2024-02-06T13:36:06.102817Z",
     "shell.execute_reply": "2024-02-06T13:36:06.101744Z"
    },
    "papermill": {
     "duration": 0.030661,
     "end_time": "2024-02-06T13:36:06.105246",
     "exception": false,
     "start_time": "2024-02-06T13:36:06.074585",
     "status": "completed"
    },
    "tags": []
   },
   "outputs": [
    {
     "data": {
      "text/html": [
       "<div>\n",
       "<style scoped>\n",
       "    .dataframe tbody tr th:only-of-type {\n",
       "        vertical-align: middle;\n",
       "    }\n",
       "\n",
       "    .dataframe tbody tr th {\n",
       "        vertical-align: top;\n",
       "    }\n",
       "\n",
       "    .dataframe thead th {\n",
       "        text-align: right;\n",
       "    }\n",
       "</style>\n",
       "<table border=\"1\" class=\"dataframe\">\n",
       "  <thead>\n",
       "    <tr style=\"text-align: right;\">\n",
       "      <th></th>\n",
       "      <th>VIP</th>\n",
       "      <th>Transported</th>\n",
       "    </tr>\n",
       "  </thead>\n",
       "  <tbody>\n",
       "    <tr>\n",
       "      <th>0</th>\n",
       "      <td>False</td>\n",
       "      <td>0.506332</td>\n",
       "    </tr>\n",
       "    <tr>\n",
       "      <th>1</th>\n",
       "      <td>True</td>\n",
       "      <td>0.381910</td>\n",
       "    </tr>\n",
       "  </tbody>\n",
       "</table>\n",
       "</div>"
      ],
      "text/plain": [
       "     VIP  Transported\n",
       "0  False     0.506332\n",
       "1   True     0.381910"
      ]
     },
     "execution_count": 15,
     "metadata": {},
     "output_type": "execute_result"
    }
   ],
   "source": [
    "train_df[['VIP', 'Transported']].groupby(['VIP'], as_index=False).mean().sort_values(by='Transported', ascending=False)"
   ]
  },
  {
   "cell_type": "markdown",
   "id": "0e8466e4",
   "metadata": {
    "papermill": {
     "duration": 0.010735,
     "end_time": "2024-02-06T13:36:06.127245",
     "exception": false,
     "start_time": "2024-02-06T13:36:06.116510",
     "status": "completed"
    },
    "tags": []
   },
   "source": [
    "### Visualizing data"
   ]
  },
  {
   "cell_type": "code",
   "execution_count": 16,
   "id": "036fa215",
   "metadata": {
    "execution": {
     "iopub.execute_input": "2024-02-06T13:36:06.151696Z",
     "iopub.status.busy": "2024-02-06T13:36:06.151113Z",
     "iopub.status.idle": "2024-02-06T13:36:06.798404Z",
     "shell.execute_reply": "2024-02-06T13:36:06.795972Z"
    },
    "papermill": {
     "duration": 0.662994,
     "end_time": "2024-02-06T13:36:06.801434",
     "exception": false,
     "start_time": "2024-02-06T13:36:06.138440",
     "status": "completed"
    },
    "tags": []
   },
   "outputs": [
    {
     "data": {
      "text/plain": [
       "<seaborn.axisgrid.FacetGrid at 0x7978f3846530>"
      ]
     },
     "execution_count": 16,
     "metadata": {},
     "output_type": "execute_result"
    },
    {
     "data": {
      "image/png": "[encoded data removed]",
      "text/plain": [
       "<Figure size 600x300 with 2 Axes>"
      ]
     },
     "metadata": {},
     "output_type": "display_data"
    }
   ],
   "source": [
    "g = sns.FacetGrid(train_df, col='Transported')\n",
    "g.map(plt.hist, 'Age', bins=20)"
   ]
  },
  {
   "cell_type": "markdown",
   "id": "2630ded3",
   "metadata": {
    "papermill": {
     "duration": 0.011258,
     "end_time": "2024-02-06T13:36:06.825720",
     "exception": false,
     "start_time": "2024-02-06T13:36:06.814462",
     "status": "completed"
    },
    "tags": []
   },
   "source": [
    "Observations:\n",
    "* Infants (Age <= 4) had high transported rate.\n",
    "* Most passengers are in 15-35 age range.\n",
    "* Large number of 15-30 years olds did not transport.\n",
    "\n",
    "Decisions:\n",
    "* Consider Age in model training.\n",
    "* Complete the Age feature for nul values.\n",
    "* Band age groups."
   ]
  },
  {
   "cell_type": "code",
   "execution_count": 17,
   "id": "799bb774",
   "metadata": {
    "execution": {
     "iopub.execute_input": "2024-02-06T13:36:06.850728Z",
     "iopub.status.busy": "2024-02-06T13:36:06.850270Z",
     "iopub.status.idle": "2024-02-06T13:36:09.289913Z",
     "shell.execute_reply": "2024-02-06T13:36:09.288633Z"
    },
    "papermill": {
     "duration": 2.455199,
     "end_time": "2024-02-06T13:36:09.292380",
     "exception": false,
     "start_time": "2024-02-06T13:36:06.837181",
     "status": "completed"
    },
    "tags": []
   },
   "outputs": [
    {
     "data": {
      "text/plain": [
       "<seaborn.axisgrid.FacetGrid at 0x7978f32fbb20>"
      ]
     },
     "execution_count": 17,
     "metadata": {},
     "output_type": "execute_result"
    },
    {
     "data": {
      "image/png": "[encoded data removed]",
      "text/plain": [
       "<Figure size 715.111x660 with 6 Axes>"
      ]
     },
     "metadata": {},
     "output_type": "display_data"
    }
   ],
   "source": [
    "#grid = sns.FacetGrid(train_df, col='HomePlanet', hue='Transported')\n",
    "grid = sns.FacetGrid(train_df, row='HomePlanet', col='Transported', height=2.2, aspect=1.6)\n",
    "grid.map(plt.hist, 'Age', alpha=.6, bins=20)\n",
    "grid.add_legend()"
   ]
  },
  {
   "cell_type": "markdown",
   "id": "055cb669",
   "metadata": {
    "papermill": {
     "duration": 0.011672,
     "end_time": "2024-02-06T13:36:09.316057",
     "exception": false,
     "start_time": "2024-02-06T13:36:09.304385",
     "status": "completed"
    },
    "tags": []
   },
   "source": [
    "Observations:\n",
    "* Most passengers was from Earth, however most did not transport.\n",
    "* All children (Age <= 15) from Mars were transported.\n",
    "* Most passengers from Europe and Mars were transported.\n",
    "\n",
    "Decisions:\n",
    "* Consider HomePlanet for model training.\n",
    "* Complete HomePlanet feature for null values."
   ]
  },
  {
   "cell_type": "code",
   "execution_count": 18,
   "id": "e0dc18ac",
   "metadata": {
    "execution": {
     "iopub.execute_input": "2024-02-06T13:36:09.342244Z",
     "iopub.status.busy": "2024-02-06T13:36:09.341746Z",
     "iopub.status.idle": "2024-02-06T13:36:11.190922Z",
     "shell.execute_reply": "2024-02-06T13:36:11.188919Z"
    },
    "papermill": {
     "duration": 1.867241,
     "end_time": "2024-02-06T13:36:11.195462",
     "exception": false,
     "start_time": "2024-02-06T13:36:09.328221",
     "status": "completed"
    },
    "tags": []
   },
   "outputs": [
    {
     "name": "stderr",
     "output_type": "stream",
     "text": [
      "/opt/conda/lib/python3.10/site-packages/seaborn/axisgrid.py:712: UserWarning: Using the pointplot function without specifying `order` is likely to produce an incorrect plot.\n",
      "  warnings.warn(warning)\n",
      "/opt/conda/lib/python3.10/site-packages/seaborn/axisgrid.py:717: UserWarning: Using the pointplot function without specifying `hue_order` is likely to produce an incorrect plot.\n",
      "  warnings.warn(warning)\n"
     ]
    },
    {
     "data": {
      "text/plain": [
       "<seaborn.axisgrid.FacetGrid at 0x7978f2f862c0>"
      ]
     },
     "execution_count": 18,
     "metadata": {},
     "output_type": "execute_result"
    },
    {
     "data": {
      "image/png": "[encoded data removed]",
      "text/plain": [
       "<Figure size 564.875x900 with 3 Axes>"
      ]
     },
     "metadata": {},
     "output_type": "display_data"
    }
   ],
   "source": [
    "grid = sns.FacetGrid(train_df, row='Destination', aspect=1.6)\n",
    "grid.map(sns.pointplot, 'HomePlanet', 'Transported', 'CryoSleep')\n",
    "grid.add_legend()"
   ]
  },
  {
   "cell_type": "markdown",
   "id": "72c7d722",
   "metadata": {
    "papermill": {
     "duration": 0.014554,
     "end_time": "2024-02-06T13:36:11.223924",
     "exception": false,
     "start_time": "2024-02-06T13:36:11.209370",
     "status": "completed"
    },
    "tags": []
   },
   "source": [
    "Observations:\n",
    "* CryoSleep passengers had much better transport rate.\n",
    "\n",
    "Decisons:\n",
    "* Complete CryoSleep and Destination features for null values.\n",
    "* Add CryoSleep and Destinaton feature to model training."
   ]
  },
  {
   "cell_type": "code",
   "execution_count": 19,
   "id": "9b58f830",
   "metadata": {
    "execution": {
     "iopub.execute_input": "2024-02-06T13:36:11.255958Z",
     "iopub.status.busy": "2024-02-06T13:36:11.255519Z",
     "iopub.status.idle": "2024-02-06T13:36:12.860628Z",
     "shell.execute_reply": "2024-02-06T13:36:12.859290Z"
    },
    "papermill": {
     "duration": 1.624067,
     "end_time": "2024-02-06T13:36:12.863217",
     "exception": false,
     "start_time": "2024-02-06T13:36:11.239150",
     "status": "completed"
    },
    "tags": []
   },
   "outputs": [
    {
     "name": "stderr",
     "output_type": "stream",
     "text": [
      "/opt/conda/lib/python3.10/site-packages/seaborn/axisgrid.py:712: UserWarning: Using the barplot function without specifying `order` is likely to produce an incorrect plot.\n",
      "  warnings.warn(warning)\n"
     ]
    },
    {
     "data": {
      "text/plain": [
       "<seaborn.axisgrid.FacetGrid at 0x7978f2ebb5b0>"
      ]
     },
     "execution_count": 19,
     "metadata": {},
     "output_type": "execute_result"
    },
    {
     "data": {
      "image/png": "[encoded data removed]",
      "text/plain": [
       "<Figure size 311.111x900 with 3 Axes>"
      ]
     },
     "metadata": {},
     "output_type": "display_data"
    }
   ],
   "source": [
    "grid = sns.FacetGrid(train_df, row='HomePlanet')\n",
    "grid.map(sns.barplot, 'Transported', 'RoomService', alpha=.5)\n",
    "grid.add_legend()"
   ]
  },
  {
   "cell_type": "markdown",
   "id": "cd5fffa4",
   "metadata": {
    "papermill": {
     "duration": 0.092804,
     "end_time": "2024-02-06T13:36:12.970546",
     "exception": false,
     "start_time": "2024-02-06T13:36:12.877742",
     "status": "completed"
    },
    "tags": []
   },
   "source": [
    "Observation:\n",
    "* Passengers from Mars paid the most for room service, but most of them were not transported.\n",
    "\n",
    "Decision:\n",
    "* Consider RoomService for model training."
   ]
  },
  {
   "cell_type": "code",
   "execution_count": 20,
   "id": "69878981",
   "metadata": {
    "execution": {
     "iopub.execute_input": "2024-02-06T13:36:13.002373Z",
     "iopub.status.busy": "2024-02-06T13:36:13.001866Z",
     "iopub.status.idle": "2024-02-06T13:36:14.539242Z",
     "shell.execute_reply": "2024-02-06T13:36:14.537912Z"
    },
    "papermill": {
     "duration": 1.556908,
     "end_time": "2024-02-06T13:36:14.541990",
     "exception": false,
     "start_time": "2024-02-06T13:36:12.985082",
     "status": "completed"
    },
    "tags": []
   },
   "outputs": [
    {
     "name": "stderr",
     "output_type": "stream",
     "text": [
      "/opt/conda/lib/python3.10/site-packages/seaborn/axisgrid.py:712: UserWarning: Using the barplot function without specifying `order` is likely to produce an incorrect plot.\n",
      "  warnings.warn(warning)\n"
     ]
    },
    {
     "data": {
      "text/plain": [
       "<seaborn.axisgrid.FacetGrid at 0x7978f3010400>"
      ]
     },
     "execution_count": 20,
     "metadata": {},
     "output_type": "execute_result"
    },
    {
     "data": {
      "image/png": "[encoded data removed]",
      "text/plain": [
       "<Figure size 311.111x900 with 3 Axes>"
      ]
     },
     "metadata": {},
     "output_type": "display_data"
    }
   ],
   "source": [
    "grid = sns.FacetGrid(train_df, row='HomePlanet')\n",
    "grid.map(sns.barplot, 'Transported', 'FoodCourt', alpha=.5)\n",
    "grid.add_legend()"
   ]
  },
  {
   "cell_type": "markdown",
   "id": "296614af",
   "metadata": {
    "papermill": {
     "duration": 0.015448,
     "end_time": "2024-02-06T13:36:14.574503",
     "exception": false,
     "start_time": "2024-02-06T13:36:14.559055",
     "status": "completed"
    },
    "tags": []
   },
   "source": [
    "Observation:\n",
    "* Passengers from Europa paid the most for food court."
   ]
  },
  {
   "cell_type": "code",
   "execution_count": 21,
   "id": "388fc2a5",
   "metadata": {
    "execution": {
     "iopub.execute_input": "2024-02-06T13:36:14.608148Z",
     "iopub.status.busy": "2024-02-06T13:36:14.607668Z",
     "iopub.status.idle": "2024-02-06T13:36:16.025907Z",
     "shell.execute_reply": "2024-02-06T13:36:16.024889Z"
    },
    "papermill": {
     "duration": 1.438507,
     "end_time": "2024-02-06T13:36:16.028323",
     "exception": false,
     "start_time": "2024-02-06T13:36:14.589816",
     "status": "completed"
    },
    "tags": []
   },
   "outputs": [
    {
     "name": "stderr",
     "output_type": "stream",
     "text": [
      "/opt/conda/lib/python3.10/site-packages/seaborn/axisgrid.py:712: UserWarning: Using the barplot function without specifying `order` is likely to produce an incorrect plot.\n",
      "  warnings.warn(warning)\n"
     ]
    },
    {
     "data": {
      "text/plain": [
       "<seaborn.axisgrid.FacetGrid at 0x7978f30422c0>"
      ]
     },
     "execution_count": 21,
     "metadata": {},
     "output_type": "execute_result"
    },
    {
     "data": {
      "image/png": "[encoded data removed]",
      "text/plain": [
       "<Figure size 311.111x900 with 3 Axes>"
      ]
     },
     "metadata": {},
     "output_type": "display_data"
    }
   ],
   "source": [
    "grid = sns.FacetGrid(train_df, row='HomePlanet')\n",
    "grid.map(sns.barplot, 'Transported', 'ShoppingMall', alpha=.5)\n",
    "grid.add_legend()"
   ]
  },
  {
   "cell_type": "markdown",
   "id": "671ef9e2",
   "metadata": {
    "papermill": {
     "duration": 0.01614,
     "end_time": "2024-02-06T13:36:16.061585",
     "exception": false,
     "start_time": "2024-02-06T13:36:16.045445",
     "status": "completed"
    },
    "tags": []
   },
   "source": [
    "Observation:\n",
    "* Passengers from Mars paid the most for shopping mall.\n"
   ]
  },
  {
   "cell_type": "code",
   "execution_count": 22,
   "id": "e48c3775",
   "metadata": {
    "execution": {
     "iopub.execute_input": "2024-02-06T13:36:16.096404Z",
     "iopub.status.busy": "2024-02-06T13:36:16.095920Z",
     "iopub.status.idle": "2024-02-06T13:36:17.544724Z",
     "shell.execute_reply": "2024-02-06T13:36:17.543266Z"
    },
    "papermill": {
     "duration": 1.469166,
     "end_time": "2024-02-06T13:36:17.547266",
     "exception": false,
     "start_time": "2024-02-06T13:36:16.078100",
     "status": "completed"
    },
    "tags": []
   },
   "outputs": [
    {
     "name": "stderr",
     "output_type": "stream",
     "text": [
      "/opt/conda/lib/python3.10/site-packages/seaborn/axisgrid.py:712: UserWarning: Using the barplot function without specifying `order` is likely to produce an incorrect plot.\n",
      "  warnings.warn(warning)\n"
     ]
    },
    {
     "data": {
      "text/plain": [
       "<seaborn.axisgrid.FacetGrid at 0x7978f2a44910>"
      ]
     },
     "execution_count": 22,
     "metadata": {},
     "output_type": "execute_result"
    },
    {
     "data": {
      "image/png": "[encoded data removed]",
      "text/plain": [
       "<Figure size 311.111x900 with 3 Axes>"
      ]
     },
     "metadata": {},
     "output_type": "display_data"
    }
   ],
   "source": [
    "grid = sns.FacetGrid(train_df, row='HomePlanet')\n",
    "grid.map(sns.barplot, 'Transported', 'Spa', alpha=.5)\n",
    "grid.add_legend()"
   ]
  },
  {
   "cell_type": "markdown",
   "id": "655b2210",
   "metadata": {
    "papermill": {
     "duration": 0.016435,
     "end_time": "2024-02-06T13:36:17.581418",
     "exception": false,
     "start_time": "2024-02-06T13:36:17.564983",
     "status": "completed"
    },
    "tags": []
   },
   "source": [
    "Observation:\n",
    "* Passengers from Europa paid the most for spa, but most of them were not transported.\n",
    "\n",
    "Decision:\n",
    "* Consider Spa for model training."
   ]
  },
  {
   "cell_type": "code",
   "execution_count": 23,
   "id": "f4c1e31e",
   "metadata": {
    "execution": {
     "iopub.execute_input": "2024-02-06T13:36:17.617989Z",
     "iopub.status.busy": "2024-02-06T13:36:17.617026Z",
     "iopub.status.idle": "2024-02-06T13:36:19.077492Z",
     "shell.execute_reply": "2024-02-06T13:36:19.075990Z"
    },
    "papermill": {
     "duration": 1.482638,
     "end_time": "2024-02-06T13:36:19.080788",
     "exception": false,
     "start_time": "2024-02-06T13:36:17.598150",
     "status": "completed"
    },
    "tags": []
   },
   "outputs": [
    {
     "name": "stderr",
     "output_type": "stream",
     "text": [
      "/opt/conda/lib/python3.10/site-packages/seaborn/axisgrid.py:712: UserWarning: Using the barplot function without specifying `order` is likely to produce an incorrect plot.\n",
      "  warnings.warn(warning)\n"
     ]
    },
    {
     "data": {
      "text/plain": [
       "<seaborn.axisgrid.FacetGrid at 0x7978f2a62950>"
      ]
     },
     "execution_count": 23,
     "metadata": {},
     "output_type": "execute_result"
    },
    {
     "data": {
      "image/png": "[encoded data removed]",
      "text/plain": [
       "<Figure size 311.111x900 with 3 Axes>"
      ]
     },
     "metadata": {},
     "output_type": "display_data"
    }
   ],
   "source": [
    "grid = sns.FacetGrid(train_df, row='HomePlanet')\n",
    "grid.map(sns.barplot, 'Transported', 'VRDeck', alpha=.5)\n",
    "grid.add_legend()"
   ]
  },
  {
   "cell_type": "markdown",
   "id": "43875ff1",
   "metadata": {
    "papermill": {
     "duration": 0.016836,
     "end_time": "2024-02-06T13:36:19.115229",
     "exception": false,
     "start_time": "2024-02-06T13:36:19.098393",
     "status": "completed"
    },
    "tags": []
   },
   "source": [
    "Observation:\n",
    "* Passengers from Europa paid the most for VRDeck, but most of them were not transported.\n",
    "\n",
    "Decision:\n",
    "* Consider VRDeck for model training.\n",
    "* Create Luxury Amenities feature (sum of Room Service, Food Court, Shopping Mall, Spa and VRDeck)."
   ]
  },
  {
   "cell_type": "markdown",
   "id": "f212df94",
   "metadata": {
    "papermill": {
     "duration": 0.017622,
     "end_time": "2024-02-06T13:36:19.150581",
     "exception": false,
     "start_time": "2024-02-06T13:36:19.132959",
     "status": "completed"
    },
    "tags": []
   },
   "source": [
    "## Data wrangling"
   ]
  },
  {
   "cell_type": "markdown",
   "id": "ff98bef6",
   "metadata": {
    "papermill": {
     "duration": 0.018305,
     "end_time": "2024-02-06T13:36:19.187297",
     "exception": false,
     "start_time": "2024-02-06T13:36:19.168992",
     "status": "completed"
    },
    "tags": []
   },
   "source": [
    "### Dropping features"
   ]
  },
  {
   "cell_type": "markdown",
   "id": "f2c1e983",
   "metadata": {
    "papermill": {
     "duration": 0.017031,
     "end_time": "2024-02-06T13:36:19.222298",
     "exception": false,
     "start_time": "2024-02-06T13:36:19.205267",
     "status": "completed"
    },
    "tags": []
   },
   "source": [
    "Column to drop: PassengerId, Cabin, Name"
   ]
  },
  {
   "cell_type": "code",
   "execution_count": 24,
   "id": "4f518460",
   "metadata": {
    "execution": {
     "iopub.execute_input": "2024-02-06T13:36:19.260367Z",
     "iopub.status.busy": "2024-02-06T13:36:19.259840Z",
     "iopub.status.idle": "2024-02-06T13:36:19.274950Z",
     "shell.execute_reply": "2024-02-06T13:36:19.273639Z"
    },
    "papermill": {
     "duration": 0.037444,
     "end_time": "2024-02-06T13:36:19.277339",
     "exception": false,
     "start_time": "2024-02-06T13:36:19.239895",
     "status": "completed"
    },
    "tags": []
   },
   "outputs": [
    {
     "name": "stdout",
     "output_type": "stream",
     "text": [
      "Before: (8693, 14) (4277, 13) (8693, 14) (4277, 13)\n"
     ]
    },
    {
     "data": {
      "text/plain": [
       "('After:', (8693, 11), (4277, 11), (8693, 11), (4277, 11))"
      ]
     },
     "execution_count": 24,
     "metadata": {},
     "output_type": "execute_result"
    }
   ],
   "source": [
    "print('Before:', train_df.shape, test_df.shape, combine[0].shape, combine[1].shape)\n",
    "\n",
    "train_df = train_df.drop(['PassengerId', 'Cabin', 'Name'], axis=1)\n",
    "test_df = test_df.drop(['Cabin', 'Name'], axis=1)\n",
    "combine = [train_df, test_df]\n",
    "\n",
    "'After:', train_df.shape, test_df.shape, combine[0].shape, combine[1].shape"
   ]
  },
  {
   "cell_type": "code",
   "execution_count": null,
   "id": "cc34b36e",
   "metadata": {
    "papermill": {
     "duration": 0.017495,
     "end_time": "2024-02-06T13:36:19.312613",
     "exception": false,
     "start_time": "2024-02-06T13:36:19.295118",
     "status": "completed"
    },
    "tags": []
   },
   "outputs": [],
   "source": []
  }
 ],
 "metadata": {
  "kaggle": {
   "accelerator": "none",
   "dataSources": [
    {
     "databundleVersionId": 3220602,
     "sourceId": 34377,
     "sourceType": "competition"
    }
   ],
   "dockerImageVersionId": 30646,
   "isGpuEnabled": false,
   "isInternetEnabled": true,
   "language": "python",
   "sourceType": "notebook"
  },
  "kernelspec": {
   "display_name": "Python 3",
   "language": "python",
   "name": "python3"
  },
  "language_info": {
   "codemirror_mode": {
    "name": "ipython",
    "version": 3
   },
   "file_extension": ".py",
   "mimetype": "text/x-python",
   "name": "python",
   "nbconvert_exporter": "python",
   "pygments_lexer": "ipython3",
   "version": "3.10.13"
  },
  "papermill": {
   "default_parameters": {},
   "duration": 21.370358,
   "end_time": "2024-02-06T13:36:20.253919",
   "environment_variables": {},
   "exception": null,
   "input_path": "__notebook__.ipynb",
   "output_path": "__notebook__.ipynb",
   "parameters": {},
   "start_time": "2024-02-06T13:35:58.883561",
   "version": "2.5.0"
  }
 },
 "nbformat": 4,
 "nbformat_minor": 5
}
